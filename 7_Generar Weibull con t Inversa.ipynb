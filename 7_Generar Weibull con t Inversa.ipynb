{
  "nbformat": 4,
  "nbformat_minor": 0,
  "metadata": {
    "colab": {
      "provenance": [],
      "authorship_tag": "ABX9TyNJA3bKPhXdM2fYfN2Ftciw",
      "include_colab_link": true
    },
    "kernelspec": {
      "name": "python3",
      "display_name": "Python 3"
    },
    "language_info": {
      "name": "python"
    }
  },
  "cells": [
    {
      "cell_type": "markdown",
      "metadata": {
        "id": "view-in-github",
        "colab_type": "text"
      },
      "source": [
        "<a href=\"https://colab.research.google.com/github/BraianPelaez/BraianPelaez/blob/main/Tarea_Demostraci%C3%B3n_Fx_1(u)_Distribuci%C3%B3n_Weibull.ipynb\" target=\"_parent\"><img src=\"https://colab.research.google.com/assets/colab-badge.svg\" alt=\"Open In Colab\"/></a>"
      ]
    },
    {
      "cell_type": "markdown",
      "source": [
        "$\\color{red}{Ejercicio \\ 2.}$ Comprobar que si $\\ U \\sim \\text{unif}(0, 1)$ entonces $F_{X}^{-1}(u) = \\frac{1}{\\lambda}(-Ln(1-u))^{\\frac{1}{\\alpha}} \\sim Weibull(\\alpha,\\lambda)$ \\\\\n",
        "\n",
        "Dado $\\ U \\sim \\text{unif}(0, 1) $ se propone que $X = \\frac{1}{\\lambda} \\left[ -\\ln(1 - u) \\right]^{\\frac{1}{\\alpha}} $.\n",
        "\n",
        "Ahora, revisemos la solución paso a paso:\n",
        "\n",
        "\\begin{align*}\n",
        "1. & \\text{Se define:} \\\\\n",
        "   & x = \\frac{1}{\\lambda} \\left[ -\\ln(1 - u) \\right]^{\\frac{1}{\\alpha}}.\\\\ \\\\\n",
        "2. & \\ \\text{Se calcula} \\ \\mathbb{P}(X \\leq x): \\\\\n",
        "   & \\ \\mathbb{P}\\left(X \\leq x\\right) = \\mathbb{P}\\left(\\frac{1}{\\lambda} \\left[ -\\ln(1 - u) \\right]^{\\frac{1}{\\alpha}} \\leq x \\right). \\\\ \\\\\n",
        "3. & \\ \\text{Simplificando la desigualdad:} \\\\\n",
        "   & \\ \\mathbb{P}\\left(\\left[ -\\ln(1 - u) \\right]^{\\frac{1}{\\alpha}} \\leq \\lambda x \\right). \\\\ \\\\\n",
        "4. & \\ \\text{Elevando ambos lados a la potencia } \\alpha: \\\\\n",
        "   & \\ \\mathbb{P}\\left(-\\ln(1 - u) \\leq (\\lambda x)^\\alpha \\right). \\\\ \\\\\n",
        "5. & \\ \\text{Cambiando el signo y tomando la exponencial:} \\\\\n",
        "   & \\ \\mathbb{P}\\left(\\ln(1 - u) \\geq -(\\lambda x)^\\alpha \\right). \\\\\n",
        "   & \\ \\mathbb{P}\\left(1 - u \\geq e^{-(\\lambda x)^\\alpha} \\right). \\\\ \\\\\n",
        "6. & \\ \\text{Finalmente, resolviendo para } u: \\\\\n",
        "   & \\ \\mathbb{P}\\left(u \\leq 1 - e^{-(\\lambda x)^\\alpha} \\right).\n",
        "\\end{align*}\n",
        "\n",
        "Dado que $ U \\sim \\text{unif}(0, 1) $, la probabilidad de $ u $ siendo menor o igual a un valor es simplemente ese valor:\n",
        "\n",
        "$$\n",
        "\\mathbb{P}\\left(u \\leq 1 - e^{-(\\lambda x)^\\alpha} \\right) = 1 - e^{-(\\lambda x)^\\alpha}\n",
        "$$\n",
        "\n",
        "Esta es la función de distribución acumulativa (CDF) de la distribución Weibull con parámetros $\\alpha$ y $\\lambda$. Por lo tanto, $ X $ sigue una distribución Weibull con parámetros $\\alpha$ y $\\lambda$."
      ],
      "metadata": {
        "id": "YPhtyuBVQUc2"
      }
    },
    {
      "cell_type": "code",
      "execution_count": null,
      "metadata": {
        "id": "0qYCofWBQTaL"
      },
      "outputs": [],
      "source": []
    }
  ]
}
