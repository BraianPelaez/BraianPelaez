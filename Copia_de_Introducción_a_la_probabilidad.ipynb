{
  "nbformat": 4,
  "nbformat_minor": 0,
  "metadata": {
    "colab": {
      "provenance": [],
      "include_colab_link": true
    },
    "kernelspec": {
      "name": "python3",
      "display_name": "Python 3"
    },
    "language_info": {
      "name": "python"
    }
  },
  "cells": [
    {
      "cell_type": "markdown",
      "metadata": {
        "id": "view-in-github",
        "colab_type": "text"
      },
      "source": [
        "<a href=\"https://colab.research.google.com/github/BraianPelaez/BraianPelaez/blob/main/Copia_de_Introducci%C3%B3n_a_la_probabilidad.ipynb\" target=\"_parent\"><img src=\"https://colab.research.google.com/assets/colab-badge.svg\" alt=\"Open In Colab\"/></a>"
      ]
    },
    {
      "cell_type": "markdown",
      "source": [
        "##Algunos conceptos de python.\n",
        "\n",
        "* Es un lenguaje orientado a objetos.\n",
        "* Objetos: int, float, str, listas (list), vectores (arrays), conjuntos (set), diccionarios, DataFrames, etc."
      ],
      "metadata": {
        "id": "3gP9HzmPXk9D"
      }
    },
    {
      "cell_type": "code",
      "execution_count": null,
      "metadata": {
        "colab": {
          "base_uri": "https://localhost:8080/"
        },
        "id": "X79pFv4wQDvH",
        "outputId": "b5dc99cf-f56c-4f36-d1ed-d9b70fd0924c"
      },
      "outputs": [
        {
          "output_type": "stream",
          "name": "stdout",
          "text": [
            "9\n"
          ]
        }
      ],
      "source": [
        "# celda de código\n",
        "\n",
        "print(4+5)\n",
        "4/5"
      ]
    },
    {
      "cell_type": "markdown",
      "source": [
        "## Listas\n",
        "\n",
        "Una lista es una manera de organizar objetos\n"
      ],
      "metadata": {
        "id": "De3UEL4loH1K"
      }
    },
    {
      "cell_type": "code",
      "source": [
        "#variables\n",
        "lista_1 = [1, 3.2, \"Hola\", False, {\"A\", \"S\"}]\n"
      ],
      "metadata": {
        "id": "COOIWclGoPua"
      },
      "execution_count": null,
      "outputs": []
    },
    {
      "cell_type": "markdown",
      "source": [
        "####Generador de índices (etiquetas de Python)\n",
        "\n"
      ],
      "metadata": {
        "id": "W9G2nGEJuQMC"
      }
    },
    {
      "cell_type": "code",
      "source": [
        "range(10)"
      ],
      "metadata": {
        "colab": {
          "base_uri": "https://localhost:8080/"
        },
        "id": "KC4MsYkludGP",
        "outputId": "0d404506-686b-4538-ade4-f519f739104f"
      },
      "execution_count": null,
      "outputs": [
        {
          "output_type": "execute_result",
          "data": {
            "text/plain": [
              "range(0, 10)"
            ]
          },
          "metadata": {},
          "execution_count": 2
        }
      ]
    },
    {
      "cell_type": "code",
      "source": [
        "for i in range(10):\n",
        "  print(i)"
      ],
      "metadata": {
        "colab": {
          "base_uri": "https://localhost:8080/"
        },
        "id": "R5mxeqzBuiVe",
        "outputId": "205c3f38-c70b-4afb-f084-35714724ecf8"
      },
      "execution_count": null,
      "outputs": [
        {
          "output_type": "stream",
          "name": "stdout",
          "text": [
            "0\n",
            "1\n",
            "2\n",
            "3\n",
            "4\n",
            "5\n",
            "6\n",
            "7\n",
            "8\n",
            "9\n"
          ]
        }
      ]
    },
    {
      "cell_type": "code",
      "source": [
        "lista_2 = [i for i in range(1,6)]\n",
        "lista_2"
      ],
      "metadata": {
        "colab": {
          "base_uri": "https://localhost:8080/"
        },
        "id": "C4QudBcyuvQi",
        "outputId": "dff4de66-764c-40dc-e8b5-877b4ec093c0"
      },
      "execution_count": null,
      "outputs": [
        {
          "output_type": "execute_result",
          "data": {
            "text/plain": [
              "[1, 2, 3, 4, 5]"
            ]
          },
          "metadata": {},
          "execution_count": 5
        }
      ]
    },
    {
      "cell_type": "code",
      "source": [
        "# Agregar elementos a una lista append\n",
        "\n",
        "L = []\n",
        "\n",
        "for i in range(2,6):\n",
        "  L.append(i)\n",
        "\n",
        "L"
      ],
      "metadata": {
        "colab": {
          "base_uri": "https://localhost:8080/"
        },
        "id": "6jpr1IusvT2M",
        "outputId": "444c7863-edf9-410a-c8aa-be6529d8afe4"
      },
      "execution_count": null,
      "outputs": [
        {
          "output_type": "execute_result",
          "data": {
            "text/plain": [
              "[2, 3, 4, 5]"
            ]
          },
          "metadata": {},
          "execution_count": 8
        }
      ]
    },
    {
      "cell_type": "markdown",
      "source": [
        "##Modelo Clásico laplaciano\n"
      ],
      "metadata": {
        "id": "8patOSWMqCLD"
      }
    },
    {
      "cell_type": "markdown",
      "source": [
        "###Ejemplo: Lanzamiento de 3 monedas\n",
        "\n",
        "Se tiene el siguiente experimento aleatorio. Se lanzan de manera independiente 3 monedas.\n",
        "\n",
        "El espacio muestral es:\n",
        "\n",
        "$$\\Omega = \\left\\{ A,S \\right\\} \\times \\left\\{ A,S \\right\\} \\times \\left\\{ A,S \\right\\} = \\left\\{ A,S \\right\\}^3$$\n",
        "$$$$\n",
        "$$\\text{card}(\\Omega) = 2^3 = 8$$\n"
      ],
      "metadata": {
        "id": "AS15EPH2qZxo"
      }
    },
    {
      "cell_type": "markdown",
      "source": [],
      "metadata": {
        "id": "sHJIFFCfjf3-"
      }
    },
    {
      "cell_type": "markdown",
      "source": [
        "Tenemos\n",
        "$$\\mathcal{F}=p(\\Omega)$$\n",
        "$$\\text{card}(\\mathcal{F}) = 2^8$$"
      ],
      "metadata": {
        "id": "fgHuFns_0RdO"
      }
    },
    {
      "cell_type": "markdown",
      "source": [
        "$\\color{red}{Definición \\ de \\ probabilidad \\ clásica \\ (modelo laplaciano)}.$\n",
        "\n",
        "Si $E$ es un evento, la función de probabilidad:\n",
        "\n",
        "$$\\mathbb{P}(E)=\\frac {\\text{card}(E)}{\\text{card}(\\Omega)}$$"
      ],
      "metadata": {
        "id": "OVjpiaOE2dqZ"
      }
    },
    {
      "cell_type": "code",
      "source": [
        "# Hay 256 posibles eventos"
      ],
      "metadata": {
        "id": "GWR9lLLI0_a3"
      },
      "execution_count": null,
      "outputs": []
    },
    {
      "cell_type": "code",
      "source": [
        "#Vamos a crear el código para Omega\n",
        "\n",
        "import itertools\n",
        "from itertools import product\n",
        "\n",
        "Omega = set(product({\"A\", \"S\"}, repeat = 3))\n",
        "Omega"
      ],
      "metadata": {
        "colab": {
          "base_uri": "https://localhost:8080/"
        },
        "id": "-93LI0FRuPxh",
        "outputId": "e3737c1d-ae37-435e-9081-07e4c2cb64a2"
      },
      "execution_count": null,
      "outputs": [
        {
          "output_type": "execute_result",
          "data": {
            "text/plain": [
              "{('A', 'A', 'A'),\n",
              " ('A', 'A', 'S'),\n",
              " ('A', 'S', 'A'),\n",
              " ('A', 'S', 'S'),\n",
              " ('S', 'A', 'A'),\n",
              " ('S', 'A', 'S'),\n",
              " ('S', 'S', 'A'),\n",
              " ('S', 'S', 'S')}"
            ]
          },
          "metadata": {},
          "execution_count": 10
        }
      ]
    },
    {
      "cell_type": "code",
      "source": [
        "len(Omega)"
      ],
      "metadata": {
        "colab": {
          "base_uri": "https://localhost:8080/"
        },
        "id": "vjdsEBgTz5jW",
        "outputId": "2d6c3dce-a8af-42a1-b1e5-7e30bc3c4d4a"
      },
      "execution_count": null,
      "outputs": [
        {
          "output_type": "execute_result",
          "data": {
            "text/plain": [
              "8"
            ]
          },
          "metadata": {},
          "execution_count": 11
        }
      ]
    },
    {
      "cell_type": "code",
      "source": [],
      "metadata": {
        "id": "S4nd6wml4ZKL"
      },
      "execution_count": null,
      "outputs": []
    },
    {
      "cell_type": "markdown",
      "source": [
        "Consideremos los siguientes eventos:\n",
        "1. A: todas águilas.\n",
        "2. S: todas sol.\n",
        "3. E: por lo menos una cara sea sol\n",
        "\n",
        "Vamos a contestar la primera pregunta.\n",
        "Llamemos a $A_i$ al evento en donde sale águila en el i-esimo resultado"
      ],
      "metadata": {
        "id": "OliUA9044IC9"
      }
    },
    {
      "cell_type": "code",
      "source": [
        "#Creamos a nuetro primer evento\n",
        "\n",
        "A_1 = {om for om in Omega if om[0]==\"A\"}\n",
        "A_1"
      ],
      "metadata": {
        "colab": {
          "base_uri": "https://localhost:8080/"
        },
        "id": "X8mFJrkK0MCM",
        "outputId": "e30be496-fa44-4377-8daf-6e5be6c42852"
      },
      "execution_count": null,
      "outputs": [
        {
          "output_type": "execute_result",
          "data": {
            "text/plain": [
              "{('A', 'A', 'A'), ('A', 'A', 'S'), ('A', 'S', 'A'), ('A', 'S', 'S')}"
            ]
          },
          "metadata": {},
          "execution_count": 12
        }
      ]
    },
    {
      "cell_type": "code",
      "source": [
        "#Creamos a nuetro segundo evento\n",
        "\n",
        "A_2 = {om for om in Omega if om[1]==\"A\"}\n",
        "A_2"
      ],
      "metadata": {
        "colab": {
          "base_uri": "https://localhost:8080/"
        },
        "id": "arBBtNPA5ZEx",
        "outputId": "62417735-1a39-44c5-9722-212e70ecc0c8"
      },
      "execution_count": null,
      "outputs": [
        {
          "output_type": "execute_result",
          "data": {
            "text/plain": [
              "{('A', 'A', 'A'), ('A', 'A', 'S'), ('S', 'A', 'A'), ('S', 'A', 'S')}"
            ]
          },
          "metadata": {},
          "execution_count": 15
        }
      ]
    },
    {
      "cell_type": "code",
      "source": [
        "#Creamos a nuetro tercer evento\n",
        "\n",
        "A_3 = {om for om in Omega if om[2]==\"A\"}\n",
        "A_3"
      ],
      "metadata": {
        "colab": {
          "base_uri": "https://localhost:8080/"
        },
        "id": "p0bTwcCr5jVn",
        "outputId": "fd1a17e5-dadd-4075-a2a4-8491fc34c6e9"
      },
      "execution_count": null,
      "outputs": [
        {
          "output_type": "execute_result",
          "data": {
            "text/plain": [
              "{('A', 'A', 'A'), ('A', 'S', 'A'), ('S', 'A', 'A'), ('S', 'S', 'A')}"
            ]
          },
          "metadata": {},
          "execution_count": 16
        }
      ]
    },
    {
      "cell_type": "markdown",
      "source": [
        "Usamos la función intersection."
      ],
      "metadata": {
        "id": "hAto705I5whN"
      }
    },
    {
      "cell_type": "code",
      "source": [
        "A = A_1.intersection(A_2.intersection(A_3))\n",
        "A"
      ],
      "metadata": {
        "colab": {
          "base_uri": "https://localhost:8080/"
        },
        "id": "MK9q8aXd56K4",
        "outputId": "7ce350ee-bb97-42e4-958a-035823f385a5"
      },
      "execution_count": null,
      "outputs": [
        {
          "output_type": "execute_result",
          "data": {
            "text/plain": [
              "{('A', 'A', 'A')}"
            ]
          },
          "metadata": {},
          "execution_count": 17
        }
      ]
    },
    {
      "cell_type": "code",
      "source": [
        "P_A = len(A)/len(Omega)\n",
        "P_A"
      ],
      "metadata": {
        "colab": {
          "base_uri": "https://localhost:8080/"
        },
        "id": "rjQG5OGN6XRr",
        "outputId": "52c1fbe4-bf73-4a2d-83e0-966500a3466f"
      },
      "execution_count": null,
      "outputs": [
        {
          "output_type": "execute_result",
          "data": {
            "text/plain": [
              "0.125"
            ]
          },
          "metadata": {},
          "execution_count": 19
        }
      ]
    },
    {
      "cell_type": "code",
      "source": [
        "A = {om for om in Omega if om.count(\"A\")==3 }\n",
        "A"
      ],
      "metadata": {
        "colab": {
          "base_uri": "https://localhost:8080/"
        },
        "id": "a8hpiqZD8CRw",
        "outputId": "39c36a2f-fa3f-4155-9cfb-efa464700f53"
      },
      "execution_count": null,
      "outputs": [
        {
          "output_type": "execute_result",
          "data": {
            "text/plain": [
              "{('A', 'A', 'A')}"
            ]
          },
          "metadata": {},
          "execution_count": 20
        }
      ]
    },
    {
      "cell_type": "code",
      "source": [
        "from fractions import Fraction\n",
        "\n",
        "def P(E, Omega):\n",
        "  p = Fraction(len(E),len(Omega))\n",
        "  return p"
      ],
      "metadata": {
        "id": "PdIoMmChC3Wt"
      },
      "execution_count": null,
      "outputs": []
    },
    {
      "cell_type": "markdown",
      "source": [
        "###Finalmente obtendremos la tercer pregunta.\n",
        "\n",
        "Obtener la $\\mathbb{P}(E)$"
      ],
      "metadata": {
        "id": "DtdjLuzjBaGy"
      }
    },
    {
      "cell_type": "code",
      "source": [
        "E = {om for om in Omega if om.count(\"S\")>=1}\n",
        "E"
      ],
      "metadata": {
        "colab": {
          "base_uri": "https://localhost:8080/"
        },
        "id": "6fws8VOSBCeT",
        "outputId": "e93bb6cc-c8e3-4cb0-e26a-00fdd61a5ccf"
      },
      "execution_count": null,
      "outputs": [
        {
          "output_type": "execute_result",
          "data": {
            "text/plain": [
              "{('A', 'A', 'S'),\n",
              " ('A', 'S', 'A'),\n",
              " ('A', 'S', 'S'),\n",
              " ('S', 'A', 'A'),\n",
              " ('S', 'A', 'S'),\n",
              " ('S', 'S', 'A'),\n",
              " ('S', 'S', 'S')}"
            ]
          },
          "metadata": {},
          "execution_count": 21
        }
      ]
    },
    {
      "cell_type": "code",
      "source": [
        "P(E,Omega)"
      ],
      "metadata": {
        "colab": {
          "base_uri": "https://localhost:8080/"
        },
        "id": "CadVUbTvCUEe",
        "outputId": "aad3ff5b-e7f3-4e98-ebbf-ec4a3943fa70"
      },
      "execution_count": null,
      "outputs": [
        {
          "output_type": "execute_result",
          "data": {
            "text/plain": [
              "Fraction(7, 8)"
            ]
          },
          "metadata": {},
          "execution_count": 24
        }
      ]
    },
    {
      "cell_type": "markdown",
      "source": [
        "### Evento Extra\n",
        "\n",
        "N: Al menos salga 1 aguila y al menos 1 sol\n",
        "\n",
        "Obtener la $\\mathbb{P}(N)$"
      ],
      "metadata": {
        "id": "9pvLCYgjC9KD"
      }
    },
    {
      "cell_type": "code",
      "source": [
        "N = {om for om in Omega if ((om.count(\"A\")>=1) & (om.count(\"S\")>=1))}\n",
        "N\n"
      ],
      "metadata": {
        "colab": {
          "base_uri": "https://localhost:8080/"
        },
        "id": "LVVJRbj9DeGH",
        "outputId": "53e287e2-bae5-4c3c-f2bf-d8a167b1ac60"
      },
      "execution_count": null,
      "outputs": [
        {
          "output_type": "execute_result",
          "data": {
            "text/plain": [
              "{('A', 'A', 'S'),\n",
              " ('A', 'S', 'A'),\n",
              " ('A', 'S', 'S'),\n",
              " ('S', 'A', 'A'),\n",
              " ('S', 'A', 'S'),\n",
              " ('S', 'S', 'A')}"
            ]
          },
          "metadata": {},
          "execution_count": 28
        }
      ]
    },
    {
      "cell_type": "code",
      "source": [
        "P(N,Omega)"
      ],
      "metadata": {
        "colab": {
          "base_uri": "https://localhost:8080/"
        },
        "id": "TAchfA7nEHx9",
        "outputId": "6955722a-6b37-4f5f-89a5-d5a2f4d5aff6"
      },
      "execution_count": null,
      "outputs": [
        {
          "output_type": "execute_result",
          "data": {
            "text/plain": [
              "Fraction(3, 4)"
            ]
          },
          "metadata": {},
          "execution_count": 29
        }
      ]
    }
  ]
}